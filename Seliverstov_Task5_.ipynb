{
 "cells": [
  {
   "cell_type": "code",
   "execution_count": 1,
   "id": "539b5f6a",
   "metadata": {},
   "outputs": [],
   "source": [
    "#Імпортуємо модулі\n",
    "from tensorflow.keras.datasets import fashion_mnist\n",
    "import tensorflow.keras as keras\n",
    "from tensorflow.keras.models import Sequential\n",
    "from tensorflow.keras.layers import Dense, Dropout\n",
    "from tensorflow.keras import utils\n",
    "import numpy as np\n",
    "import matplotlib.pyplot as plt\n",
    "from keras import layers\n",
    "from keras import models\n",
    "from keras.callbacks import ModelCheckpoint\n",
    "import tensorflow as tf\n",
    "from keras.preprocessing.image import ImageDataGenerator\n",
    "from keras.layers import *\n",
    "from tensorflow.keras import utils\n",
    "\n",
    "from keras.applications.vgg16 import VGG16\n",
    "conv_base = VGG16 (weights = \"imagenet\", include_top = False, input_shape = (150, 150, 3))"
   ]
  },
  {
   "cell_type": "code",
   "execution_count": 2,
   "id": "b6a78387",
   "metadata": {},
   "outputs": [
    {
     "name": "stdout",
     "output_type": "stream",
     "text": [
      "x_train original shape: (60000, 28, 28)\n",
      "y_train original shape: (60000,)\n"
     ]
    }
   ],
   "source": [
    "(x_train, y_train), (x_test, y_test) = fashion_mnist.load_data()\n",
    "print(\"x_train original shape:\", x_train.shape)\n",
    "print(\"y_train original shape:\", y_train.shape)"
   ]
  },
  {
   "cell_type": "code",
   "execution_count": 3,
   "id": "f6b48622",
   "metadata": {},
   "outputs": [],
   "source": [
    "y_train = utils.to_categorical(y_train)\n",
    "y_test = utils.to_categorical(y_test)"
   ]
  },
  {
   "cell_type": "code",
   "execution_count": 4,
   "id": "4bf2e08e",
   "metadata": {},
   "outputs": [],
   "source": [
    "x_train = np.reshape(x_train, (-1, 28, 28, 1))\n",
    "x_test = np.reshape(x_test, (-1, 28, 28, 1))"
   ]
  },
  {
   "cell_type": "code",
   "execution_count": 5,
   "id": "c37e4833",
   "metadata": {},
   "outputs": [
    {
     "data": {
      "text/plain": [
       "TensorShape([60000, 28, 28, 3])"
      ]
     },
     "execution_count": 5,
     "metadata": {},
     "output_type": "execute_result"
    }
   ],
   "source": [
    "x_train = Concatenate()([x_train, x_train,x_train]) \n",
    "x_test = Concatenate() ([x_test, x_test, x_test])\n",
    "\n",
    "x_train.shape"
   ]
  },
  {
   "cell_type": "code",
   "execution_count": 6,
   "id": "5f23812b",
   "metadata": {},
   "outputs": [
    {
     "data": {
      "text/plain": [
       "(TensorShape([60000, 32, 32, 3]), TensorShape([60000, 28, 28, 3]))"
      ]
     },
     "execution_count": 6,
     "metadata": {},
     "output_type": "execute_result"
    }
   ],
   "source": [
    "resized_x_train = tf.image.resize(x_train, (32,32)) \n",
    "resized_x_test = tf.image.resize(x_test, (32,32))\n",
    "\n",
    "resized_x_train. shape, x_train.shape"
   ]
  },
  {
   "cell_type": "code",
   "execution_count": 7,
   "id": "a90d0c7c",
   "metadata": {},
   "outputs": [],
   "source": [
    "from tensorflow.keras.preprocessing.image import img_to_array\n",
    "\n",
    "train_X = np.asarray([img_to_array(im) for im in resized_x_train])\n",
    "test_X = np.asarray([img_to_array(im) for im in resized_x_test])"
   ]
  },
  {
   "cell_type": "code",
   "execution_count": 8,
   "id": "f896cb85",
   "metadata": {},
   "outputs": [],
   "source": [
    "from sklearn.model_selection import train_test_split\n",
    "\n",
    "x_train, x_val, y_train, y_val = train_test_split(train_X,\n",
    "                                                  y_train,\n",
    "                                                  test_size=0.2,\n",
    "                                                  random_state=13)"
   ]
  },
  {
   "cell_type": "code",
   "execution_count": 9,
   "id": "a5053086",
   "metadata": {},
   "outputs": [],
   "source": [
    "train_generator = ImageDataGenerator(\n",
    "    rescale = 1./255,\n",
    "    rotation_range = 20,\n",
    "    width_shift_range = 0.2,\n",
    "    height_shift_range = 0.2,\n",
    "    shear_range = 0.2,\n",
    "    zoom_range = 0.2,\n",
    "    horizontal_flip = True,\n",
    "    fill_mode = 'nearest'\n",
    ")\n",
    "\n",
    "test_generator = ImageDataGenerator(rescale = 1./255)"
   ]
  },
  {
   "cell_type": "code",
   "execution_count": 10,
   "id": "37c6b5fc",
   "metadata": {},
   "outputs": [],
   "source": [
    "train_generator.fit(x_train)\n",
    "test_generator.fit(x_val)"
   ]
  },
  {
   "cell_type": "code",
   "execution_count": 11,
   "id": "b801cbd6",
   "metadata": {},
   "outputs": [],
   "source": [
    "train_generator = train_generator.flow (x_train, y_train, batch_size = 200) \n",
    "test_generator = test_generator.flow (x_val,y_val, batch_size = 200)"
   ]
  },
  {
   "cell_type": "code",
   "execution_count": 12,
   "id": "7fff378e",
   "metadata": {},
   "outputs": [
    {
     "data": {
      "text/plain": [
       "TensorShape([10000, 28, 28, 3])"
      ]
     },
     "execution_count": 12,
     "metadata": {},
     "output_type": "execute_result"
    }
   ],
   "source": [
    "x_test.shape"
   ]
  },
  {
   "cell_type": "code",
   "execution_count": 13,
   "id": "eb7f839e",
   "metadata": {},
   "outputs": [],
   "source": [
    "conv_base = VGG16(weights = 'imagenet',\n",
    "                 include_top = False,\n",
    "                 input_shape = (150, 150, 3))"
   ]
  },
  {
   "cell_type": "code",
   "execution_count": 14,
   "id": "90bbd537",
   "metadata": {},
   "outputs": [],
   "source": [
    "#conv_base.trainable = False\n",
    "conv_base.trainable = True\n",
    "set_trainable = False\n",
    "for layer in conv_base.layers:\n",
    "    if layer.name == 'block3_conv1': \n",
    "        set_trainable = True\n",
    "    if set_trainable: \n",
    "        layer.trainable = True\n",
    "    else:\n",
    "        layer.trainable = False"
   ]
  },
  {
   "cell_type": "code",
   "execution_count": 15,
   "id": "768893f6",
   "metadata": {},
   "outputs": [],
   "source": [
    "original_dim = (32, 32, 3)\n",
    "target_size = (150, 150)\n",
    "\n",
    "model = models.Sequential()\n",
    "model.add(layers.Input(original_dim))\n",
    "model.add(layers.Lambda(lambda image: tf.image.resize(image, target_size)))\n",
    "model.add(conv_base)\n",
    "model.add(layers.Flatten())\n",
    "model.add(layers.Dropout(0.3))\n",
    "model.add(layers.Dense(256, activation='relu', kernel_initializer='he_uniform'))\n",
    "model.add(layers.Dense(128, activation='relu'))\n",
    "model.add(layers.Dense(10, activation='softmax'))"
   ]
  },
  {
   "cell_type": "code",
   "execution_count": 16,
   "id": "1a9b23f3",
   "metadata": {},
   "outputs": [
    {
     "name": "stdout",
     "output_type": "stream",
     "text": [
      "Model: \"sequential\"\n",
      "_________________________________________________________________\n",
      " Layer (type)                Output Shape              Param #   \n",
      "=================================================================\n",
      " lambda (Lambda)             (None, 150, 150, 3)       0         \n",
      "                                                                 \n",
      " vgg16 (Functional)          (None, 4, 4, 512)         14714688  \n",
      "                                                                 \n",
      " flatten (Flatten)           (None, 8192)              0         \n",
      "                                                                 \n",
      " dropout (Dropout)           (None, 8192)              0         \n",
      "                                                                 \n",
      " dense (Dense)               (None, 256)               2097408   \n",
      "                                                                 \n",
      " dense_1 (Dense)             (None, 128)               32896     \n",
      "                                                                 \n",
      " dense_2 (Dense)             (None, 10)                1290      \n",
      "                                                                 \n",
      "=================================================================\n",
      "Total params: 16,846,282\n",
      "Trainable params: 16,586,122\n",
      "Non-trainable params: 260,160\n",
      "_________________________________________________________________\n"
     ]
    }
   ],
   "source": [
    "model.summary()"
   ]
  },
  {
   "cell_type": "code",
   "execution_count": 17,
   "id": "6db3b3fc",
   "metadata": {},
   "outputs": [
    {
     "name": "stdout",
     "output_type": "stream",
     "text": [
      "Epoch 1/10\n",
      "20/20 [==============================] - ETA: 0s - loss: 2.0293 - accuracy: 0.2720 \n",
      "Epoch 1: val_loss improved from inf to 1.28987, saving model to best_weights.hdf5\n",
      "20/20 [==============================] - 506s 26s/step - loss: 2.0293 - accuracy: 0.2720 - val_loss: 1.2899 - val_accuracy: 0.5162\n",
      "Epoch 2/10\n",
      "20/20 [==============================] - ETA: 0s - loss: 1.1666 - accuracy: 0.5815 \n",
      "Epoch 2: val_loss improved from 1.28987 to 0.77042, saving model to best_weights.hdf5\n",
      "20/20 [==============================] - 505s 26s/step - loss: 1.1666 - accuracy: 0.5815 - val_loss: 0.7704 - val_accuracy: 0.6908\n",
      "Epoch 3/10\n",
      "20/20 [==============================] - ETA: 0s - loss: 0.8808 - accuracy: 0.6750 \n",
      "Epoch 3: val_loss improved from 0.77042 to 0.56152, saving model to best_weights.hdf5\n",
      "20/20 [==============================] - 505s 26s/step - loss: 0.8808 - accuracy: 0.6750 - val_loss: 0.5615 - val_accuracy: 0.7928\n",
      "Epoch 4/10\n",
      "20/20 [==============================] - ETA: 0s - loss: 0.7883 - accuracy: 0.7005 \n",
      "Epoch 4: val_loss did not improve from 0.56152\n",
      "20/20 [==============================] - 504s 26s/step - loss: 0.7883 - accuracy: 0.7005 - val_loss: 0.5806 - val_accuracy: 0.8018\n",
      "Epoch 5/10\n",
      "20/20 [==============================] - ETA: 0s - loss: 0.7333 - accuracy: 0.7300 \n",
      "Epoch 5: val_loss did not improve from 0.56152\n",
      "20/20 [==============================] - 516s 26s/step - loss: 0.7333 - accuracy: 0.7300 - val_loss: 0.5874 - val_accuracy: 0.7897\n",
      "Epoch 6/10\n",
      "20/20 [==============================] - ETA: 0s - loss: 0.6894 - accuracy: 0.7437 \n",
      "Epoch 6: val_loss did not improve from 0.56152\n",
      "20/20 [==============================] - 518s 26s/step - loss: 0.6894 - accuracy: 0.7437 - val_loss: 0.5695 - val_accuracy: 0.7843\n",
      "Epoch 7/10\n",
      "20/20 [==============================] - ETA: 0s - loss: 0.6059 - accuracy: 0.7713 \n",
      "Epoch 7: val_loss improved from 0.56152 to 0.48421, saving model to best_weights.hdf5\n",
      "20/20 [==============================] - 527s 27s/step - loss: 0.6059 - accuracy: 0.7713 - val_loss: 0.4842 - val_accuracy: 0.8237\n",
      "Epoch 8/10\n",
      "20/20 [==============================] - ETA: 0s - loss: 0.5913 - accuracy: 0.7885 \n",
      "Epoch 8: val_loss improved from 0.48421 to 0.42569, saving model to best_weights.hdf5\n",
      "20/20 [==============================] - 520s 26s/step - loss: 0.5913 - accuracy: 0.7885 - val_loss: 0.4257 - val_accuracy: 0.8418\n",
      "Epoch 9/10\n",
      "20/20 [==============================] - ETA: 0s - loss: 0.5757 - accuracy: 0.7875 \n",
      "Epoch 9: val_loss improved from 0.42569 to 0.37475, saving model to best_weights.hdf5\n",
      "20/20 [==============================] - 522s 27s/step - loss: 0.5757 - accuracy: 0.7875 - val_loss: 0.3747 - val_accuracy: 0.8592\n",
      "Epoch 10/10\n",
      "20/20 [==============================] - ETA: 0s - loss: 0.5524 - accuracy: 0.7980 \n",
      "Epoch 10: val_loss did not improve from 0.37475\n",
      "20/20 [==============================] - 519s 26s/step - loss: 0.5524 - accuracy: 0.7980 - val_loss: 0.4380 - val_accuracy: 0.8402\n"
     ]
    }
   ],
   "source": [
    "checkpointer = ModelCheckpoint(filepath = \"best_weights.hdf5\", verbose = 1, save_best_only=True)\n",
    "model.compile(loss = \"categorical_crossentropy\",\n",
    "             optimizer = keras.optimizers.RMSprop(1e-4),\n",
    "             metrics = [\"accuracy\"])\n",
    "history = model.fit(train_generator,\n",
    "              epochs = 10,\n",
    "              steps_per_epoch = 20,\n",
    "              validation_data = test_generator,\n",
    "              validation_steps = 30,\n",
    "              shuffle = True,\n",
    "              callbacks = [checkpointer])"
   ]
  },
  {
   "cell_type": "code",
   "execution_count": 18,
   "id": "cff591f1",
   "metadata": {},
   "outputs": [
    {
     "data": {
      "text/plain": [
       "<matplotlib.legend.Legend at 0x260e6066e30>"
      ]
     },
     "execution_count": 18,
     "metadata": {},
     "output_type": "execute_result"
    },
    {
     "data": {
      "image/png": "[encoded data removed]",
      "text/plain": [
       "<Figure size 640x480 with 1 Axes>"
      ]
     },
     "metadata": {},
     "output_type": "display_data"
    }
   ],
   "source": [
    "plt.plot(history.history[\"accuracy\"], label = \"accuracy\")\n",
    "plt.plot(history.history[\"val_accuracy\"], label = \"val_accuracy\")\n",
    "plt.legend()"
   ]
  },
  {
   "cell_type": "code",
   "execution_count": 19,
   "id": "a8436173",
   "metadata": {},
   "outputs": [
    {
     "data": {
      "text/plain": [
       "<matplotlib.legend.Legend at 0x260e4f8bcd0>"
      ]
     },
     "execution_count": 19,
     "metadata": {},
     "output_type": "execute_result"
    },
    {
     "data": {
      "image/png": "[encoded data removed]",
      "text/plain": [
       "<Figure size 640x480 with 1 Axes>"
      ]
     },
     "metadata": {},
     "output_type": "display_data"
    }
   ],
   "source": [
    "plt.plot(history.history['loss'], label = 'loss')\n",
    "plt.plot(history.history['val_loss'], label = 'val_loss')\n",
    "plt.legend()"
   ]
  },
  {
   "cell_type": "code",
   "execution_count": 20,
   "id": "3bbbd7cb",
   "metadata": {},
   "outputs": [],
   "source": [
    "x_test = tf.image.resize(x_test, (150, 150))"
   ]
  },
  {
   "cell_type": "code",
   "execution_count": 21,
   "id": "e7f50b89",
   "metadata": {},
   "outputs": [],
   "source": [
    "model = keras.models.load_model(\"best_weights.hdf5\")"
   ]
  },
  {
   "cell_type": "code",
   "execution_count": 22,
   "id": "9f64b8e4",
   "metadata": {},
   "outputs": [
    {
     "name": "stdout",
     "output_type": "stream",
     "text": [
      "10/10 [==============================] - 56s 6s/step - loss: 0.3988 - accuracy: 0.8590\n",
      "test acc: 0.859000027179718\n"
     ]
    }
   ],
   "source": [
    "test_generator = ImageDataGenerator(\n",
    "    rescale = 1./255\n",
    ")\n",
    "\n",
    "test_generator = test_generator.flow(\n",
    "    x_test,\n",
    "    y_test,\n",
    "    batch_size=200\n",
    ")\n",
    "\n",
    "test_loss, test_acc = model.evaluate(test_generator, steps = 10)\n",
    "print(\"test acc:\", test_acc)"
   ]
  },
  {
   "cell_type": "markdown",
   "id": "24ca2678",
   "metadata": {},
   "source": [
    "<H4>Висновок: Модель досягла точності валідації 85.90% після навчання протягом 10 епох з часом навчання 86 хвилин. Для покращення точності моделі необхідно збільшити кількість кроків і епох, але це займе набагато більше часу для тренування моделі, і результат не гарантовано буде набагато кращим.\n",
    "Порівнюючи з попередньою роботою, для цього датасету краще використовувати параметри з Практичного Завдання 4, оскільки часу затрачено на навчання мережі значно менше, а точність вища приблизно на 5%.<H4>"
   ]
  }
 ],
 "metadata": {
  "kernelspec": {
   "display_name": "Python 3 (ipykernel)",
   "language": "python",
   "name": "python3"
  },
  "language_info": {
   "codemirror_mode": {
    "name": "ipython",
    "version": 3
   },
   "file_extension": ".py",
   "mimetype": "text/x-python",
   "name": "python",
   "nbconvert_exporter": "python",
   "pygments_lexer": "ipython3",
   "version": "3.10.10"
  }
 },
 "nbformat": 4,
 "nbformat_minor": 5
}
